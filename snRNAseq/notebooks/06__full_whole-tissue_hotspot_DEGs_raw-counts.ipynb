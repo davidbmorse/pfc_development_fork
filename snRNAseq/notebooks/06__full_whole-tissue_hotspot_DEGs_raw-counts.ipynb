{
 "cells": [
  {
   "cell_type": "markdown",
   "metadata": {},
   "source": [
    "## **To recreate study results please load package versions found in hotspot_requirements.txt**"
   ]
  },
  {
   "cell_type": "code",
   "execution_count": 1,
   "metadata": {
    "ExecuteTime": {
     "end_time": "2022-08-09T06:54:58.265389Z",
     "start_time": "2022-08-09T06:54:55.844240Z"
    }
   },
   "outputs": [
    {
     "name": "stdout",
     "output_type": "stream",
     "text": [
      "scanpy==1.10.3 anndata==0.10.9 umap==0.5.7 numpy==1.26.4 scipy==1.13.1 pandas==2.2.3 scikit-learn==1.6.1 statsmodels==0.14.4 igraph==0.8.3 pynndescent==0.5.13\n"
     ]
    }
   ],
   "source": [
    "import scanpy as sc\n",
    "import numpy as np\n",
    "import pandas as pd\n",
    "import matplotlib.pyplot as plt\n",
    "%matplotlib inline\n",
    "import matplotlib\n",
    "import math\n",
    "import seaborn as sns\n",
    "import os\n",
    "# %config IPCompleter.greedy=True\n",
    "%load_ext autoreload\n",
    "%autoreload 2\n",
    "\n",
    "sc.settings.verbosity = 0\n",
    "sc.logging.print_header()\n",
    "sns.set_context(\"paper\")"
   ]
  },
  {
   "cell_type": "code",
   "execution_count": 2,
   "metadata": {
    "ExecuteTime": {
     "end_time": "2022-08-09T06:54:58.292679Z",
     "start_time": "2022-08-09T06:54:58.267768Z"
    }
   },
   "outputs": [],
   "source": [
    "# import local module containing misc code, helps keep notebooks clean from commonly used functions\n",
    "import new_misc_code as nmc "
   ]
  },
  {
   "cell_type": "code",
   "execution_count": 3,
   "metadata": {
    "ExecuteTime": {
     "end_time": "2022-08-09T06:54:58.626893Z",
     "start_time": "2022-08-09T06:54:58.294148Z"
    }
   },
   "outputs": [
    {
     "data": {
      "text/plain": [
       "'0.9.1'"
      ]
     },
     "execution_count": 3,
     "metadata": {},
     "output_type": "execute_result"
    }
   ],
   "source": [
    "import hotspot\n",
    "hotspot.__version__"
   ]
  },
  {
   "cell_type": "markdown",
   "metadata": {},
   "source": [
    "# **Load data**"
   ]
  },
  {
   "cell_type": "code",
   "execution_count": 4,
   "metadata": {
    "ExecuteTime": {
     "end_time": "2022-08-09T06:55:05.509091Z",
     "start_time": "2022-08-09T06:54:58.629175Z"
    }
   },
   "outputs": [
    {
     "data": {
      "text/plain": [
       "(154748, 26747)"
      ]
     },
     "execution_count": 4,
     "metadata": {},
     "output_type": "execute_result"
    }
   ],
   "source": [
    "adata = sc.read( \"../data/Processed_data_RNA-all_full-counts-and-downsampled-CPM.h5ad\")\n",
    "adata.shape"
   ]
  },
  {
   "cell_type": "markdown",
   "metadata": {},
   "source": [
    "## DBM - Data Quality Checks"
   ]
  },
  {
   "cell_type": "code",
   "execution_count": 5,
   "metadata": {},
   "outputs": [
    {
     "name": "stdout",
     "output_type": "stream",
     "text": [
      "✅ Checking adata object...\n",
      "\n",
      "Type: <class 'anndata._core.anndata.AnnData'>\n",
      "Shape (cells, genes): (154748, 26747)\n"
     ]
    },
    {
     "data": {
      "text/html": [
       "<div>\n",
       "<style scoped>\n",
       "    .dataframe tbody tr th:only-of-type {\n",
       "        vertical-align: middle;\n",
       "    }\n",
       "\n",
       "    .dataframe tbody tr th {\n",
       "        vertical-align: top;\n",
       "    }\n",
       "\n",
       "    .dataframe thead th {\n",
       "        text-align: right;\n",
       "    }\n",
       "</style>\n",
       "<table border=\"1\" class=\"dataframe\">\n",
       "  <thead>\n",
       "    <tr style=\"text-align: right;\">\n",
       "      <th></th>\n",
       "      <th>batch</th>\n",
       "      <th>RL#</th>\n",
       "      <th>age</th>\n",
       "      <th>chem</th>\n",
       "      <th>concat_id</th>\n",
       "      <th>numerical_age</th>\n",
       "      <th>stage_id</th>\n",
       "      <th>Sex</th>\n",
       "      <th>Race</th>\n",
       "      <th>PMI</th>\n",
       "      <th>...</th>\n",
       "      <th>mj_dev_traj_VIP</th>\n",
       "      <th>mj_dev_traj_OPC</th>\n",
       "      <th>mj_dev_traj_PV</th>\n",
       "      <th>mj_dev_traj_PV_SCUBE3</th>\n",
       "      <th>mj_dev_traj_ID2</th>\n",
       "      <th>mj_dev_traj_Oligo</th>\n",
       "      <th>mj_dev_traj_LAMP5_NOS1</th>\n",
       "      <th>mj_dev_traj_Micro</th>\n",
       "      <th>mj_dev_traj_Vas</th>\n",
       "      <th>mj_dev_traj_Poor-Quality</th>\n",
       "    </tr>\n",
       "  </thead>\n",
       "  <tbody>\n",
       "    <tr>\n",
       "      <th>AAACCTGAGAGTCGGT-RL1612_34d_v2</th>\n",
       "      <td>RL1612_34d_v2</td>\n",
       "      <td>RL1612</td>\n",
       "      <td>34d</td>\n",
       "      <td>v2</td>\n",
       "      <td>0</td>\n",
       "      <td>0.093151</td>\n",
       "      <td>Neonatal</td>\n",
       "      <td>M</td>\n",
       "      <td>AA</td>\n",
       "      <td>5</td>\n",
       "      <td>...</td>\n",
       "      <td>None</td>\n",
       "      <td>None</td>\n",
       "      <td>None</td>\n",
       "      <td>None</td>\n",
       "      <td>None</td>\n",
       "      <td>None</td>\n",
       "      <td>None</td>\n",
       "      <td>None</td>\n",
       "      <td>None</td>\n",
       "      <td>None</td>\n",
       "    </tr>\n",
       "    <tr>\n",
       "      <th>AAACCTGAGCCGCCTA-RL1612_34d_v2</th>\n",
       "      <td>RL1612_34d_v2</td>\n",
       "      <td>RL1612</td>\n",
       "      <td>34d</td>\n",
       "      <td>v2</td>\n",
       "      <td>0</td>\n",
       "      <td>0.093151</td>\n",
       "      <td>Neonatal</td>\n",
       "      <td>M</td>\n",
       "      <td>AA</td>\n",
       "      <td>5</td>\n",
       "      <td>...</td>\n",
       "      <td>None</td>\n",
       "      <td>None</td>\n",
       "      <td>None</td>\n",
       "      <td>None</td>\n",
       "      <td>None</td>\n",
       "      <td>None</td>\n",
       "      <td>None</td>\n",
       "      <td>None</td>\n",
       "      <td>None</td>\n",
       "      <td>None</td>\n",
       "    </tr>\n",
       "    <tr>\n",
       "      <th>AAACCTGAGTCGAGTG-RL1612_34d_v2</th>\n",
       "      <td>RL1612_34d_v2</td>\n",
       "      <td>RL1612</td>\n",
       "      <td>34d</td>\n",
       "      <td>v2</td>\n",
       "      <td>0</td>\n",
       "      <td>0.093151</td>\n",
       "      <td>Neonatal</td>\n",
       "      <td>M</td>\n",
       "      <td>AA</td>\n",
       "      <td>5</td>\n",
       "      <td>...</td>\n",
       "      <td>None</td>\n",
       "      <td>None</td>\n",
       "      <td>None</td>\n",
       "      <td>None</td>\n",
       "      <td>None</td>\n",
       "      <td>None</td>\n",
       "      <td>None</td>\n",
       "      <td>None</td>\n",
       "      <td>None</td>\n",
       "      <td>None</td>\n",
       "    </tr>\n",
       "    <tr>\n",
       "      <th>AAACCTGAGTGAACAT-RL1612_34d_v2</th>\n",
       "      <td>RL1612_34d_v2</td>\n",
       "      <td>RL1612</td>\n",
       "      <td>34d</td>\n",
       "      <td>v2</td>\n",
       "      <td>0</td>\n",
       "      <td>0.093151</td>\n",
       "      <td>Neonatal</td>\n",
       "      <td>M</td>\n",
       "      <td>AA</td>\n",
       "      <td>5</td>\n",
       "      <td>...</td>\n",
       "      <td>None</td>\n",
       "      <td>None</td>\n",
       "      <td>None</td>\n",
       "      <td>None</td>\n",
       "      <td>None</td>\n",
       "      <td>None</td>\n",
       "      <td>None</td>\n",
       "      <td>None</td>\n",
       "      <td>None</td>\n",
       "      <td>None</td>\n",
       "    </tr>\n",
       "    <tr>\n",
       "      <th>AAACCTGCAAGGACTG-RL1612_34d_v2</th>\n",
       "      <td>RL1612_34d_v2</td>\n",
       "      <td>RL1612</td>\n",
       "      <td>34d</td>\n",
       "      <td>v2</td>\n",
       "      <td>0</td>\n",
       "      <td>0.093151</td>\n",
       "      <td>Neonatal</td>\n",
       "      <td>M</td>\n",
       "      <td>AA</td>\n",
       "      <td>5</td>\n",
       "      <td>...</td>\n",
       "      <td>None</td>\n",
       "      <td>None</td>\n",
       "      <td>None</td>\n",
       "      <td>None</td>\n",
       "      <td>None</td>\n",
       "      <td>None</td>\n",
       "      <td>None</td>\n",
       "      <td>None</td>\n",
       "      <td>None</td>\n",
       "      <td>None</td>\n",
       "    </tr>\n",
       "  </tbody>\n",
       "</table>\n",
       "<p>5 rows × 96 columns</p>\n",
       "</div>"
      ],
      "text/plain": [
       "                                        batch     RL#  age chem concat_id  \\\n",
       "AAACCTGAGAGTCGGT-RL1612_34d_v2  RL1612_34d_v2  RL1612  34d   v2         0   \n",
       "AAACCTGAGCCGCCTA-RL1612_34d_v2  RL1612_34d_v2  RL1612  34d   v2         0   \n",
       "AAACCTGAGTCGAGTG-RL1612_34d_v2  RL1612_34d_v2  RL1612  34d   v2         0   \n",
       "AAACCTGAGTGAACAT-RL1612_34d_v2  RL1612_34d_v2  RL1612  34d   v2         0   \n",
       "AAACCTGCAAGGACTG-RL1612_34d_v2  RL1612_34d_v2  RL1612  34d   v2         0   \n",
       "\n",
       "                                numerical_age  stage_id Sex Race  PMI  ...  \\\n",
       "AAACCTGAGAGTCGGT-RL1612_34d_v2       0.093151  Neonatal   M   AA    5  ...   \n",
       "AAACCTGAGCCGCCTA-RL1612_34d_v2       0.093151  Neonatal   M   AA    5  ...   \n",
       "AAACCTGAGTCGAGTG-RL1612_34d_v2       0.093151  Neonatal   M   AA    5  ...   \n",
       "AAACCTGAGTGAACAT-RL1612_34d_v2       0.093151  Neonatal   M   AA    5  ...   \n",
       "AAACCTGCAAGGACTG-RL1612_34d_v2       0.093151  Neonatal   M   AA    5  ...   \n",
       "\n",
       "                               mj_dev_traj_VIP mj_dev_traj_OPC mj_dev_traj_PV  \\\n",
       "AAACCTGAGAGTCGGT-RL1612_34d_v2            None            None           None   \n",
       "AAACCTGAGCCGCCTA-RL1612_34d_v2            None            None           None   \n",
       "AAACCTGAGTCGAGTG-RL1612_34d_v2            None            None           None   \n",
       "AAACCTGAGTGAACAT-RL1612_34d_v2            None            None           None   \n",
       "AAACCTGCAAGGACTG-RL1612_34d_v2            None            None           None   \n",
       "\n",
       "                               mj_dev_traj_PV_SCUBE3 mj_dev_traj_ID2  \\\n",
       "AAACCTGAGAGTCGGT-RL1612_34d_v2                  None            None   \n",
       "AAACCTGAGCCGCCTA-RL1612_34d_v2                  None            None   \n",
       "AAACCTGAGTCGAGTG-RL1612_34d_v2                  None            None   \n",
       "AAACCTGAGTGAACAT-RL1612_34d_v2                  None            None   \n",
       "AAACCTGCAAGGACTG-RL1612_34d_v2                  None            None   \n",
       "\n",
       "                               mj_dev_traj_Oligo  mj_dev_traj_LAMP5_NOS1  \\\n",
       "AAACCTGAGAGTCGGT-RL1612_34d_v2              None                    None   \n",
       "AAACCTGAGCCGCCTA-RL1612_34d_v2              None                    None   \n",
       "AAACCTGAGTCGAGTG-RL1612_34d_v2              None                    None   \n",
       "AAACCTGAGTGAACAT-RL1612_34d_v2              None                    None   \n",
       "AAACCTGCAAGGACTG-RL1612_34d_v2              None                    None   \n",
       "\n",
       "                               mj_dev_traj_Micro  mj_dev_traj_Vas  \\\n",
       "AAACCTGAGAGTCGGT-RL1612_34d_v2              None             None   \n",
       "AAACCTGAGCCGCCTA-RL1612_34d_v2              None             None   \n",
       "AAACCTGAGTCGAGTG-RL1612_34d_v2              None             None   \n",
       "AAACCTGAGTGAACAT-RL1612_34d_v2              None             None   \n",
       "AAACCTGCAAGGACTG-RL1612_34d_v2              None             None   \n",
       "\n",
       "                                mj_dev_traj_Poor-Quality  \n",
       "AAACCTGAGAGTCGGT-RL1612_34d_v2                      None  \n",
       "AAACCTGAGCCGCCTA-RL1612_34d_v2                      None  \n",
       "AAACCTGAGTCGAGTG-RL1612_34d_v2                      None  \n",
       "AAACCTGAGTGAACAT-RL1612_34d_v2                      None  \n",
       "AAACCTGCAAGGACTG-RL1612_34d_v2                      None  \n",
       "\n",
       "[5 rows x 96 columns]"
      ]
     },
     "metadata": {},
     "output_type": "display_data"
    },
    {
     "data": {
      "text/html": [
       "<div>\n",
       "<style scoped>\n",
       "    .dataframe tbody tr th:only-of-type {\n",
       "        vertical-align: middle;\n",
       "    }\n",
       "\n",
       "    .dataframe tbody tr th {\n",
       "        vertical-align: top;\n",
       "    }\n",
       "\n",
       "    .dataframe thead th {\n",
       "        text-align: right;\n",
       "    }\n",
       "</style>\n",
       "<table border=\"1\" class=\"dataframe\">\n",
       "  <thead>\n",
       "    <tr style=\"text-align: right;\">\n",
       "      <th></th>\n",
       "      <th>gene_ids</th>\n",
       "      <th>feature_types</th>\n",
       "      <th>non-unique_names</th>\n",
       "      <th>n_cells_by_counts</th>\n",
       "      <th>mean_counts</th>\n",
       "      <th>log1p_mean_counts</th>\n",
       "      <th>pct_dropout_by_counts</th>\n",
       "      <th>total_counts</th>\n",
       "      <th>log1p_total_counts</th>\n",
       "      <th>n_counts</th>\n",
       "      <th>n_cells</th>\n",
       "      <th>highly_variable</th>\n",
       "      <th>means</th>\n",
       "      <th>dispersions</th>\n",
       "      <th>dispersions_norm</th>\n",
       "    </tr>\n",
       "  </thead>\n",
       "  <tbody>\n",
       "    <tr>\n",
       "      <th>RP11-34P13.7</th>\n",
       "      <td>ENSG00000238009</td>\n",
       "      <td>Gene Expression</td>\n",
       "      <td>RP11-34P13.7</td>\n",
       "      <td>1045</td>\n",
       "      <td>0.006908</td>\n",
       "      <td>0.006884</td>\n",
       "      <td>99.324709</td>\n",
       "      <td>1069.0</td>\n",
       "      <td>6.975414</td>\n",
       "      <td>1180.0</td>\n",
       "      <td>146</td>\n",
       "      <td>False</td>\n",
       "      <td>0.664505</td>\n",
       "      <td>6.906880</td>\n",
       "      <td>-0.315939</td>\n",
       "    </tr>\n",
       "    <tr>\n",
       "      <th>AL627309.1</th>\n",
       "      <td>ENSG00000237683</td>\n",
       "      <td>Gene Expression</td>\n",
       "      <td>AL627309.1</td>\n",
       "      <td>636</td>\n",
       "      <td>0.004291</td>\n",
       "      <td>0.004282</td>\n",
       "      <td>99.589009</td>\n",
       "      <td>664.0</td>\n",
       "      <td>6.499787</td>\n",
       "      <td>760.0</td>\n",
       "      <td>127</td>\n",
       "      <td>False</td>\n",
       "      <td>0.599243</td>\n",
       "      <td>6.907004</td>\n",
       "      <td>-0.314168</td>\n",
       "    </tr>\n",
       "    <tr>\n",
       "      <th>RP11-34P13.14</th>\n",
       "      <td>ENSG00000239906</td>\n",
       "      <td>Gene Expression</td>\n",
       "      <td>RP11-34P13.14</td>\n",
       "      <td>49</td>\n",
       "      <td>0.000317</td>\n",
       "      <td>0.000317</td>\n",
       "      <td>99.968336</td>\n",
       "      <td>49.0</td>\n",
       "      <td>3.912023</td>\n",
       "      <td>54.0</td>\n",
       "      <td>12</td>\n",
       "      <td>False</td>\n",
       "      <td>0.074692</td>\n",
       "      <td>6.907768</td>\n",
       "      <td>-0.210907</td>\n",
       "    </tr>\n",
       "    <tr>\n",
       "      <th>AP006222.2</th>\n",
       "      <td>ENSG00000228463</td>\n",
       "      <td>Gene Expression</td>\n",
       "      <td>AP006222.2</td>\n",
       "      <td>11721</td>\n",
       "      <td>0.087142</td>\n",
       "      <td>0.083552</td>\n",
       "      <td>92.425750</td>\n",
       "      <td>13485.0</td>\n",
       "      <td>9.509407</td>\n",
       "      <td>14799.0</td>\n",
       "      <td>1797</td>\n",
       "      <td>False</td>\n",
       "      <td>2.544904</td>\n",
       "      <td>6.918009</td>\n",
       "      <td>-0.226686</td>\n",
       "    </tr>\n",
       "    <tr>\n",
       "      <th>RP4-669L17.10</th>\n",
       "      <td>ENSG00000237094</td>\n",
       "      <td>Gene Expression</td>\n",
       "      <td>RP4-669L17.10</td>\n",
       "      <td>16003</td>\n",
       "      <td>0.118825</td>\n",
       "      <td>0.112279</td>\n",
       "      <td>89.658671</td>\n",
       "      <td>18388.0</td>\n",
       "      <td>9.819508</td>\n",
       "      <td>20245.0</td>\n",
       "      <td>2956</td>\n",
       "      <td>False</td>\n",
       "      <td>3.014258</td>\n",
       "      <td>6.916397</td>\n",
       "      <td>-0.467432</td>\n",
       "    </tr>\n",
       "  </tbody>\n",
       "</table>\n",
       "</div>"
      ],
      "text/plain": [
       "                      gene_ids    feature_types non-unique_names  \\\n",
       "RP11-34P13.7   ENSG00000238009  Gene Expression     RP11-34P13.7   \n",
       "AL627309.1     ENSG00000237683  Gene Expression       AL627309.1   \n",
       "RP11-34P13.14  ENSG00000239906  Gene Expression    RP11-34P13.14   \n",
       "AP006222.2     ENSG00000228463  Gene Expression       AP006222.2   \n",
       "RP4-669L17.10  ENSG00000237094  Gene Expression    RP4-669L17.10   \n",
       "\n",
       "               n_cells_by_counts  mean_counts  log1p_mean_counts  \\\n",
       "RP11-34P13.7                1045     0.006908           0.006884   \n",
       "AL627309.1                   636     0.004291           0.004282   \n",
       "RP11-34P13.14                 49     0.000317           0.000317   \n",
       "AP006222.2                 11721     0.087142           0.083552   \n",
       "RP4-669L17.10              16003     0.118825           0.112279   \n",
       "\n",
       "               pct_dropout_by_counts  total_counts  log1p_total_counts  \\\n",
       "RP11-34P13.7               99.324709        1069.0            6.975414   \n",
       "AL627309.1                 99.589009         664.0            6.499787   \n",
       "RP11-34P13.14              99.968336          49.0            3.912023   \n",
       "AP006222.2                 92.425750       13485.0            9.509407   \n",
       "RP4-669L17.10              89.658671       18388.0            9.819508   \n",
       "\n",
       "               n_counts  n_cells  highly_variable     means  dispersions  \\\n",
       "RP11-34P13.7     1180.0      146            False  0.664505     6.906880   \n",
       "AL627309.1        760.0      127            False  0.599243     6.907004   \n",
       "RP11-34P13.14      54.0       12            False  0.074692     6.907768   \n",
       "AP006222.2      14799.0     1797            False  2.544904     6.918009   \n",
       "RP4-669L17.10   20245.0     2956            False  3.014258     6.916397   \n",
       "\n",
       "               dispersions_norm  \n",
       "RP11-34P13.7          -0.315939  \n",
       "AL627309.1            -0.314168  \n",
       "RP11-34P13.14         -0.210907  \n",
       "AP006222.2            -0.226686  \n",
       "RP4-669L17.10         -0.467432  "
      ]
     },
     "metadata": {},
     "output_type": "display_data"
    },
    {
     "name": "stdout",
     "output_type": "stream",
     "text": [
      "Matrix Type: Sparse Matrix\n",
      "NaNs present: False\n",
      "Infs present: False\n"
     ]
    }
   ],
   "source": [
    "# 🛠️ Basic Checks to Confirm AnnData\n",
    "print(\"✅ Checking adata object...\\n\")\n",
    "print(\"Type:\", type(adata))\n",
    "print(\"Shape (cells, genes):\", adata.shape)\n",
    "\n",
    "# View first few rows of metadata\n",
    "display(adata.obs.head())\n",
    "display(adata.var.head())\n",
    "\n",
    "# Check if matrix has NaNs or Infs\n",
    "import numpy as np\n",
    "\n",
    "if isinstance(adata.X, np.ndarray):\n",
    "    print(\"Matrix Type: Dense Matrix\")\n",
    "    print(\"NaNs present:\", np.isnan(adata.X).any())\n",
    "    print(\"Infs present:\", np.isinf(adata.X).any())\n",
    "else:\n",
    "    print(\"Matrix Type: Sparse Matrix\")\n",
    "    print(\"NaNs present:\", np.isnan(adata.X.data).any())\n",
    "    print(\"Infs present:\", np.isinf(adata.X.data).any())"
   ]
  },
  {
   "cell_type": "code",
   "execution_count": 6,
   "metadata": {
    "ExecuteTime": {
     "end_time": "2022-08-09T06:55:05.906272Z",
     "start_time": "2022-08-09T06:55:05.511032Z"
    }
   },
   "outputs": [
    {
     "data": {
      "text/plain": [
       "(153473, 26747)"
      ]
     },
     "execution_count": 6,
     "metadata": {},
     "output_type": "execute_result"
    }
   ],
   "source": [
    "# remove poor quality cells\n",
    "poor_mk = adata.obs['major_clust']=='Poor-Quality'\n",
    "adata = adata[~poor_mk]\n",
    "adata.shape"
   ]
  },
  {
   "cell_type": "code",
   "execution_count": 7,
   "metadata": {
    "ExecuteTime": {
     "end_time": "2022-08-09T06:55:31.702537Z",
     "start_time": "2022-08-09T06:55:05.908138Z"
    },
    "scrolled": true
   },
   "outputs": [
    {
     "name": "stderr",
     "output_type": "stream",
     "text": [
      "/Users/dmorse/opt/anaconda3/envs/hotspot/lib/python3.9/site-packages/scanpy/preprocessing/_simple.py:283: ImplicitModificationWarning: Trying to modify attribute `.var` of view, initializing view as actual.\n",
      "  adata.var[\"n_cells\"] = number\n"
     ]
    }
   ],
   "source": [
    "sc.pp.filter_genes( adata, min_cells=5)"
   ]
  },
  {
   "cell_type": "code",
   "execution_count": 8,
   "metadata": {},
   "outputs": [
    {
     "data": {
      "text/plain": [
       "(153473, 26747)"
      ]
     },
     "execution_count": 8,
     "metadata": {},
     "output_type": "execute_result"
    }
   ],
   "source": [
    "adata.shape"
   ]
  },
  {
   "cell_type": "code",
   "execution_count": 18,
   "metadata": {},
   "outputs": [],
   "source": [
    "# david addition - log transform the data prior to running highly variable genes function; seems to be fixed\n",
    "# compatability problem with loading seurat data into scanpy: https://github.com/scverse/scanpy/issues/763\n",
    "sc.pp.log1p(adata)"
   ]
  },
  {
   "cell_type": "code",
   "execution_count": 19,
   "metadata": {
    "ExecuteTime": {
     "end_time": "2022-08-09T06:55:37.444643Z",
     "start_time": "2022-08-09T06:55:31.704651Z"
    },
    "scrolled": true
   },
   "outputs": [],
   "source": [
    "# select for HVGs using downsampled and normalized data\n",
    "hvg_th = 5_000\n",
    "sc.pp.highly_variable_genes( adata, n_top_genes=hvg_th, n_bins=20, flavor='seurat', inplace=True)"
   ]
  },
  {
   "cell_type": "code",
   "execution_count": 20,
   "metadata": {
    "ExecuteTime": {
     "end_time": "2022-08-09T06:55:37.764121Z",
     "start_time": "2022-08-09T06:55:37.446665Z"
    }
   },
   "outputs": [
    {
     "data": {
      "text/plain": [
       "(153473, 5000)"
      ]
     },
     "execution_count": 20,
     "metadata": {},
     "output_type": "execute_result"
    }
   ],
   "source": [
    "# select for HVGs\n",
    "high_adata = adata[:,adata.var.highly_variable.values]\n",
    "high_adata.shape"
   ]
  },
  {
   "cell_type": "code",
   "execution_count": 29,
   "metadata": {},
   "outputs": [
    {
     "name": "stdout",
     "output_type": "stream",
     "text": [
      "KeysView(Layers with keys: ds_norm_cts)\n"
     ]
    }
   ],
   "source": [
    "#test david\n",
    "print(adata.layers.keys())"
   ]
  },
  {
   "cell_type": "code",
   "execution_count": 30,
   "metadata": {
    "ExecuteTime": {
     "end_time": "2022-08-09T06:55:41.051042Z",
     "start_time": "2022-08-09T06:55:37.765864Z"
    }
   },
   "outputs": [
    {
     "data": {
      "text/plain": [
       "(153473, 5000)"
      ]
     },
     "execution_count": 30,
     "metadata": {},
     "output_type": "execute_result"
    }
   ],
   "source": [
    "# Hotspot will require the use of raw (non-downsampled) counts as well\n",
    "# david - comment out the below line b/c raw counts are now already stored in adata.X\n",
    "# adata.X = adata.layers['raw-cts_pre-ds'].copy()\n",
    "\n",
    "raw = adata[:, adata.var.highly_variable.values]\n",
    "raw.shape"
   ]
  },
  {
   "cell_type": "markdown",
   "metadata": {},
   "source": [
    "# **PCA**\n",
    "PCA has already been ran just need to adjust to only use 50% of variation"
   ]
  },
  {
   "cell_type": "code",
   "execution_count": 33,
   "metadata": {
    "ExecuteTime": {
     "end_time": "2022-08-09T06:55:41.081667Z",
     "start_time": "2022-08-09T06:55:41.054767Z"
    }
   },
   "outputs": [],
   "source": [
    "# this number taken from previous notebook 3__whole-tissue_clustering.ipynb and is equal 50% of variation\n",
    "comps = 365\n",
    "pca = adata.obsm['X_pca'][:,:comps]"
   ]
  },
  {
   "cell_type": "code",
   "execution_count": 34,
   "metadata": {
    "ExecuteTime": {
     "end_time": "2022-08-09T06:55:44.126351Z",
     "start_time": "2022-08-09T06:55:41.083228Z"
    }
   },
   "outputs": [
    {
     "data": {
      "image/png": "[encoded data removed]",
      "text/plain": [
       "<Figure size 1468.8x288 with 2 Axes>"
      ]
     },
     "metadata": {},
     "output_type": "display_data"
    }
   ],
   "source": [
    "sc.pl.pca( high_adata, color=['major_clust'], components=['1,2','3,2'], legend_fontsize=10, wspace=0.70)\n"
   ]
  },
  {
   "cell_type": "markdown",
   "metadata": {},
   "source": [
    "# **Hotspot**"
   ]
  },
  {
   "cell_type": "code",
   "execution_count": 35,
   "metadata": {
    "ExecuteTime": {
     "end_time": "2022-08-09T06:55:48.693845Z",
     "start_time": "2022-08-09T06:55:44.128151Z"
    }
   },
   "outputs": [],
   "source": [
    "# reformat data for hotspot\n",
    "counts = raw.to_df()\n",
    "counts = counts.T\n",
    "lat_df = pd.DataFrame( pca, index=counts.columns)"
   ]
  },
  {
   "cell_type": "code",
   "execution_count": 36,
   "metadata": {
    "ExecuteTime": {
     "end_time": "2022-08-09T06:56:31.242427Z",
     "start_time": "2022-08-09T06:55:48.695854Z"
    }
   },
   "outputs": [],
   "source": [
    "# Create the Hotspot object and the neighborhood graph\n",
    "hs = hotspot.Hotspot( counts, model='danb', latent=lat_df)"
   ]
  },
  {
   "cell_type": "code",
   "execution_count": 41,
   "metadata": {
    "ExecuteTime": {
     "start_time": "2022-08-09T06:54:55.613Z"
    }
   },
   "outputs": [],
   "source": [
    "# this will take a while to run, consider saving it if you would like repeated access to it. \n",
    "# comment out below just to be safe (took so long!) David\n",
    "# hs.create_knn_graph( weighted_graph=True, n_neighbors=25)"
   ]
  },
  {
   "cell_type": "code",
   "execution_count": 42,
   "metadata": {
    "ExecuteTime": {
     "start_time": "2022-08-09T06:54:55.616Z"
    }
   },
   "outputs": [
    {
     "name": "stderr",
     "output_type": "stream",
     "text": [
      "100%|██████████████████████████████████████| 5000/5000 [00:35<00:00, 139.06it/s]\n"
     ]
    },
    {
     "data": {
      "text/html": [
       "<div>\n",
       "<style scoped>\n",
       "    .dataframe tbody tr th:only-of-type {\n",
       "        vertical-align: middle;\n",
       "    }\n",
       "\n",
       "    .dataframe tbody tr th {\n",
       "        vertical-align: top;\n",
       "    }\n",
       "\n",
       "    .dataframe thead th {\n",
       "        text-align: right;\n",
       "    }\n",
       "</style>\n",
       "<table border=\"1\" class=\"dataframe\">\n",
       "  <thead>\n",
       "    <tr style=\"text-align: right;\">\n",
       "      <th></th>\n",
       "      <th>C</th>\n",
       "      <th>Z</th>\n",
       "      <th>Pval</th>\n",
       "      <th>FDR</th>\n",
       "    </tr>\n",
       "    <tr>\n",
       "      <th>Gene</th>\n",
       "      <th></th>\n",
       "      <th></th>\n",
       "      <th></th>\n",
       "      <th></th>\n",
       "    </tr>\n",
       "  </thead>\n",
       "  <tbody>\n",
       "    <tr>\n",
       "      <th>PLP1</th>\n",
       "      <td>0.924629</td>\n",
       "      <td>4437.814805</td>\n",
       "      <td>0.0</td>\n",
       "      <td>0.0</td>\n",
       "    </tr>\n",
       "    <tr>\n",
       "      <th>ST18</th>\n",
       "      <td>0.924643</td>\n",
       "      <td>4367.189803</td>\n",
       "      <td>0.0</td>\n",
       "      <td>0.0</td>\n",
       "    </tr>\n",
       "    <tr>\n",
       "      <th>APBB1IP</th>\n",
       "      <td>0.814734</td>\n",
       "      <td>4193.703776</td>\n",
       "      <td>0.0</td>\n",
       "      <td>0.0</td>\n",
       "    </tr>\n",
       "    <tr>\n",
       "      <th>RNF220</th>\n",
       "      <td>0.906278</td>\n",
       "      <td>3999.164194</td>\n",
       "      <td>0.0</td>\n",
       "      <td>0.0</td>\n",
       "    </tr>\n",
       "    <tr>\n",
       "      <th>DOCK8</th>\n",
       "      <td>0.819404</td>\n",
       "      <td>3980.555707</td>\n",
       "      <td>0.0</td>\n",
       "      <td>0.0</td>\n",
       "    </tr>\n",
       "  </tbody>\n",
       "</table>\n",
       "</div>"
      ],
      "text/plain": [
       "                C            Z  Pval  FDR\n",
       "Gene                                     \n",
       "PLP1     0.924629  4437.814805   0.0  0.0\n",
       "ST18     0.924643  4367.189803   0.0  0.0\n",
       "APBB1IP  0.814734  4193.703776   0.0  0.0\n",
       "RNF220   0.906278  3999.164194   0.0  0.0\n",
       "DOCK8    0.819404  3980.555707   0.0  0.0"
      ]
     },
     "execution_count": 42,
     "metadata": {},
     "output_type": "execute_result"
    }
   ],
   "source": [
    "hs_results = hs.compute_autocorrelations( jobs=1)#switched jobs=25 to jobs=1\n",
    "hs_results.head()"
   ]
  },
  {
   "cell_type": "code",
   "execution_count": 43,
   "metadata": {
    "ExecuteTime": {
     "start_time": "2022-08-09T06:54:55.618Z"
    }
   },
   "outputs": [],
   "source": [
    "nmc.save_obj( hs, \"../data/hotspot.pkl\")"
   ]
  },
  {
   "cell_type": "code",
   "execution_count": 44,
   "metadata": {
    "ExecuteTime": {
     "end_time": "2022-08-10T00:52:43.776621Z",
     "start_time": "2022-08-10T00:52:43.747978Z"
    }
   },
   "outputs": [
    {
     "data": {
      "text/plain": [
       "array(['#6e0614', '#8b3843', '#a86a72', '#c59ba1', '#e2cdd0', '#1c5701',\n",
       "       '#558140', '#8eab80', '#c6d5c0', '#b44622', '#c77459', '#daa290',\n",
       "       '#ecd1c8', '#ffc857', '#92afc2', '#255f85', '#484848', '#a3a3a3'],\n",
       "      dtype=object)"
      ]
     },
     "execution_count": 44,
     "metadata": {},
     "output_type": "execute_result"
    }
   ],
   "source": [
    "adata.uns['major_clust_colors']"
   ]
  },
  {
   "cell_type": "code",
   "execution_count": 45,
   "metadata": {
    "ExecuteTime": {
     "end_time": "2022-08-10T00:53:03.405857Z",
     "start_time": "2022-08-10T00:53:03.376123Z"
    }
   },
   "outputs": [],
   "source": [
    "# Select the genes with significant lineage autocorrelation\n",
    "# David - gets to here with full dataset, but this step takes ~3 hrs\n",
    "hs_genes = hs_results.loc[hs_results.FDR < 0.05].sort_values('Z', ascending=False).index"
   ]
  },
  {
   "cell_type": "code",
   "execution_count": 46,
   "metadata": {
    "ExecuteTime": {
     "end_time": "2022-08-13T03:49:29.823773Z",
     "start_time": "2022-08-10T00:53:04.743294Z"
    }
   },
   "outputs": [],
   "source": [
    "# Compute pair-wise local correlations between these genes\n",
    "# This will also take quite a long while to run (>24hrs on 25 cores)\n",
    "# David - Skip this step below b/c it takes to long\n",
    "   # lcz = hs.compute_local_correlations( hs_genes, jobs=25)"
   ]
  },
  {
   "cell_type": "code",
   "execution_count": 47,
   "metadata": {
    "ExecuteTime": {
     "start_time": "2022-08-09T06:54:55.629Z"
    }
   },
   "outputs": [],
   "source": [
    "nmc.save_obj( hs, \"../data/hotspot.pkl\")"
   ]
  },
  {
   "cell_type": "code",
   "execution_count": null,
   "metadata": {},
   "outputs": [],
   "source": []
  },
  {
   "cell_type": "code",
   "execution_count": null,
   "metadata": {},
   "outputs": [],
   "source": []
  },
  {
   "cell_type": "code",
   "execution_count": null,
   "metadata": {},
   "outputs": [],
   "source": []
  },
  {
   "cell_type": "code",
   "execution_count": null,
   "metadata": {
    "ExecuteTime": {
     "start_time": "2022-08-09T06:54:55.634Z"
    },
    "scrolled": true,
    "tags": []
   },
   "outputs": [],
   "source": [
    "# # Select the genes with significant lineage autocorrelation                        ################\n",
    "# hs_genes = hs_results.loc[hs_results.FDR < 0.05].sort_values('Z', ascending=False).index\n",
    "#                                                                                    ################\n",
    "# # Compute pair-wise local correlations between these genes\n",
    "# lcz = hs.compute_local_correlations( hs_genes, jobs=90)"
   ]
  },
  {
   "cell_type": "code",
   "execution_count": null,
   "metadata": {
    "ExecuteTime": {
     "start_time": "2022-08-09T06:54:55.636Z"
    }
   },
   "outputs": [],
   "source": [
    "# dta.save_obj( hs, \"hotspot_data/hs_FULL-whole-tissue_pc365-feat-5k_NN25\")\n",
    "# lcz.to_csv( \"hotspot_data/lcz_FULL-whole-tissue_pc365-feat-5k_NN25\")"
   ]
  },
  {
   "cell_type": "markdown",
   "metadata": {},
   "source": [
    "### Read in prior ran HOTSPOT session"
   ]
  },
  {
   "cell_type": "code",
   "execution_count": null,
   "metadata": {
    "ExecuteTime": {
     "start_time": "2022-08-09T06:54:55.638Z"
    }
   },
   "outputs": [],
   "source": [
    "# hs = dta.load_obj( \"/scratchfs/cherring/brain_maturation/analysis/data/hs_FULL-whole-tissue_pc365-feat-5k_NN25.pkl\")"
   ]
  },
  {
   "cell_type": "code",
   "execution_count": 48,
   "metadata": {
    "ExecuteTime": {
     "start_time": "2022-08-09T06:54:55.640Z"
    }
   },
   "outputs": [
    {
     "ename": "AttributeError",
     "evalue": "'NoneType' object has no attribute 'values'",
     "output_type": "error",
     "traceback": [
      "\u001b[0;31m---------------------------------------------------------------------------\u001b[0m",
      "\u001b[0;31mAttributeError\u001b[0m                            Traceback (most recent call last)",
      "\u001b[0;32m/var/folders/cy/tl1lfdqj7rd2_tx7n2kj_vdr0000gn/T/ipykernel_16061/1029907723.py\u001b[0m in \u001b[0;36m<module>\u001b[0;34m\u001b[0m\n\u001b[1;32m      1\u001b[0m \u001b[0;31m### threshold of 25 works, 150 for large modules\u001b[0m\u001b[0;34m\u001b[0m\u001b[0;34m\u001b[0m\u001b[0m\n\u001b[0;32m----> 2\u001b[0;31m modules = hs.create_modules(\n\u001b[0m\u001b[1;32m      3\u001b[0m     \u001b[0mmin_gene_threshold\u001b[0m\u001b[0;34m=\u001b[0m\u001b[0;36m65\u001b[0m\u001b[0;34m,\u001b[0m \u001b[0mcore_only\u001b[0m\u001b[0;34m=\u001b[0m\u001b[0;32mTrue\u001b[0m\u001b[0;34m,\u001b[0m \u001b[0mfdr_threshold\u001b[0m\u001b[0;34m=\u001b[0m\u001b[0;36m0.05\u001b[0m\u001b[0;34m\u001b[0m\u001b[0;34m\u001b[0m\u001b[0m\n\u001b[1;32m      4\u001b[0m )\n\u001b[1;32m      5\u001b[0m \u001b[0mmodules\u001b[0m\u001b[0;34m.\u001b[0m\u001b[0mvalue_counts\u001b[0m\u001b[0;34m(\u001b[0m\u001b[0;34m)\u001b[0m\u001b[0;34m\u001b[0m\u001b[0;34m\u001b[0m\u001b[0m\n",
      "\u001b[0;32m~/opt/anaconda3/envs/hotspot/lib/python3.9/site-packages/hotspot/hotspot.py\u001b[0m in \u001b[0;36mcreate_modules\u001b[0;34m(self, min_gene_threshold, core_only, fdr_threshold)\u001b[0m\n\u001b[1;32m    302\u001b[0m         \"\"\"\n\u001b[1;32m    303\u001b[0m \u001b[0;34m\u001b[0m\u001b[0m\n\u001b[0;32m--> 304\u001b[0;31m         gene_modules, Z = modules.compute_modules(\n\u001b[0m\u001b[1;32m    305\u001b[0m             \u001b[0mself\u001b[0m\u001b[0;34m.\u001b[0m\u001b[0mlocal_correlation_z\u001b[0m\u001b[0;34m,\u001b[0m \u001b[0mmin_gene_threshold\u001b[0m\u001b[0;34m=\u001b[0m\u001b[0mmin_gene_threshold\u001b[0m\u001b[0;34m,\u001b[0m\u001b[0;34m\u001b[0m\u001b[0;34m\u001b[0m\u001b[0m\n\u001b[1;32m    306\u001b[0m             \u001b[0mfdr_threshold\u001b[0m\u001b[0;34m=\u001b[0m\u001b[0mfdr_threshold\u001b[0m\u001b[0;34m,\u001b[0m \u001b[0mcore_only\u001b[0m\u001b[0;34m=\u001b[0m\u001b[0mcore_only\u001b[0m\u001b[0;34m\u001b[0m\u001b[0;34m\u001b[0m\u001b[0m\n",
      "\u001b[0;32m~/opt/anaconda3/envs/hotspot/lib/python3.9/site-packages/hotspot/modules.py\u001b[0m in \u001b[0;36mcompute_modules\u001b[0;34m(Z_scores, min_gene_threshold, fdr_threshold, z_threshold, core_only)\u001b[0m\n\u001b[1;32m    333\u001b[0m     \u001b[0;32mif\u001b[0m \u001b[0mz_threshold\u001b[0m \u001b[0;32mis\u001b[0m \u001b[0;32mNone\u001b[0m\u001b[0;34m:\u001b[0m\u001b[0;34m\u001b[0m\u001b[0;34m\u001b[0m\u001b[0m\n\u001b[1;32m    334\u001b[0m         allZ = squareform(  # just in case slightly not symmetric\n\u001b[0;32m--> 335\u001b[0;31m             \u001b[0mZ_scores\u001b[0m\u001b[0;34m.\u001b[0m\u001b[0mvalues\u001b[0m\u001b[0;34m/\u001b[0m\u001b[0;36m2\u001b[0m \u001b[0;34m+\u001b[0m \u001b[0mZ_scores\u001b[0m\u001b[0;34m.\u001b[0m\u001b[0mvalues\u001b[0m\u001b[0;34m.\u001b[0m\u001b[0mT\u001b[0m\u001b[0;34m/\u001b[0m\u001b[0;36m2\u001b[0m\u001b[0;34m\u001b[0m\u001b[0;34m\u001b[0m\u001b[0m\n\u001b[0m\u001b[1;32m    336\u001b[0m         )\n\u001b[1;32m    337\u001b[0m         \u001b[0mallZ\u001b[0m \u001b[0;34m=\u001b[0m \u001b[0mnp\u001b[0m\u001b[0;34m.\u001b[0m\u001b[0msort\u001b[0m\u001b[0;34m(\u001b[0m\u001b[0mallZ\u001b[0m\u001b[0;34m)\u001b[0m\u001b[0;34m\u001b[0m\u001b[0;34m\u001b[0m\u001b[0m\n",
      "\u001b[0;31mAttributeError\u001b[0m: 'NoneType' object has no attribute 'values'"
     ]
    }
   ],
   "source": [
    "### threshold of 25 works, 150 for large modules\n",
    "modules = hs.create_modules(\n",
    "    min_gene_threshold=65, core_only=True, fdr_threshold=0.05\n",
    ")\n",
    "modules.value_counts()"
   ]
  },
  {
   "cell_type": "code",
   "execution_count": null,
   "metadata": {
    "ExecuteTime": {
     "start_time": "2022-08-09T06:54:55.642Z"
    }
   },
   "outputs": [],
   "source": [
    "### threshold of 25 works, 150 for large modules\n",
    "modules = hs.create_modules(\n",
    "    min_gene_threshold=65, core_only=True, fdr_threshold=0.05\n",
    ")\n",
    "modules.value_counts()"
   ]
  },
  {
   "cell_type": "code",
   "execution_count": null,
   "metadata": {},
   "outputs": [],
   "source": []
  },
  {
   "cell_type": "code",
   "execution_count": null,
   "metadata": {},
   "outputs": [],
   "source": []
  },
  {
   "cell_type": "code",
   "execution_count": null,
   "metadata": {
    "ExecuteTime": {
     "start_time": "2022-08-09T06:54:55.647Z"
    }
   },
   "outputs": [],
   "source": [
    "modules"
   ]
  },
  {
   "cell_type": "code",
   "execution_count": null,
   "metadata": {},
   "outputs": [],
   "source": []
  },
  {
   "cell_type": "code",
   "execution_count": null,
   "metadata": {},
   "outputs": [],
   "source": []
  },
  {
   "cell_type": "code",
   "execution_count": null,
   "metadata": {
    "ExecuteTime": {
     "start_time": "2022-08-09T06:54:55.652Z"
    }
   },
   "outputs": [],
   "source": [
    "hs.plot_local_correlations(vmin=-50, vmax=50)"
   ]
  },
  {
   "cell_type": "code",
   "execution_count": null,
   "metadata": {
    "ExecuteTime": {
     "start_time": "2022-08-09T06:54:55.654Z"
    }
   },
   "outputs": [],
   "source": [
    "hs.plot_local_correlations(vmin=-50, vmax=50)"
   ]
  },
  {
   "cell_type": "code",
   "execution_count": null,
   "metadata": {
    "ExecuteTime": {
     "start_time": "2022-08-09T06:54:55.656Z"
    }
   },
   "outputs": [],
   "source": [
    "module_scores = hs.calculate_module_scores()\n",
    "module_scores.head()"
   ]
  },
  {
   "cell_type": "code",
   "execution_count": null,
   "metadata": {
    "ExecuteTime": {
     "start_time": "2022-08-09T06:54:55.658Z"
    }
   },
   "outputs": [],
   "source": [
    "umap = adata.obsm['X_umap']"
   ]
  },
  {
   "cell_type": "code",
   "execution_count": null,
   "metadata": {
    "ExecuteTime": {
     "start_time": "2022-08-09T06:54:55.660Z"
    }
   },
   "outputs": [],
   "source": [
    " # subplot params\n",
    "n    = max( hs.modules.unique())\n",
    "cols = round( math.sqrt( n))\n",
    "rows = math.ceil( n / cols)\n",
    "size = cols * rows\n",
    "\n",
    "fig, axs = plt.subplots( rows, cols, figsize=(rows*5,cols*5))\n",
    "cax = fig.add_axes(\n",
    "    [.95, .15, .007, .1]\n",
    ")\n",
    "for itr, (ax, mod) in enumerate( zip( axs.ravel(), hs.module_scores.columns)):\n",
    "    ax.set_facecolor( 'white')\n",
    "    scp = hs.module_scores[mod]\n",
    "    vmin = -10\n",
    "    vmax = 10\n",
    "    plt.sca(ax)\n",
    "    scp = plt.scatter(\n",
    "        umap[:,0], umap[:,1],\n",
    "        s=1, c=scp, vmin=vmin, vmax=vmax,\n",
    "        rasterized=True, cmap='Blues')\n",
    "    plt.xticks([])\n",
    "    plt.yticks([])\n",
    "    plt.title(\"Module {}\".format(mod))\n",
    "# clear rest of graphs\n",
    "for ii in range( itr+1, size):\n",
    "    ax = axs.flatten()[ii]\n",
    "    ax.axis('off')\n",
    "        \n",
    "plt.subplots_adjust(hspace=0.2)\n",
    "plt.colorbar(scp, cax=cax, label='Module\\nScore')\n",
    "plt.subplots_adjust(left=0.02, right=0.9)"
   ]
  },
  {
   "cell_type": "code",
   "execution_count": null,
   "metadata": {
    "ExecuteTime": {
     "start_time": "2022-08-09T06:54:55.662Z"
    }
   },
   "outputs": [],
   "source": [
    "# rename modules to match order of paper\n",
    "pap_dict = {14:'M1', 4:'M2', 11:'M3', 6:'M4', 7:'M5', 12:'M6', 3:'M7', 5:'M8', 1:'M9', 10:'M10', 2:'M11', 9:'M12', 8:'M13', 13:'M14', -1:'Not_Significant'}\n",
    "pap_df = modules.to_frame()\n",
    "pap_df.rename(columns={'Module':'Hotspot_ID'}, inplace=True)\n",
    "pap_df['Hotspot_Module'] = [pap_dict[ii] for ii in pap_df['Hotspot_ID']]"
   ]
  },
  {
   "cell_type": "code",
   "execution_count": null,
   "metadata": {
    "ExecuteTime": {
     "start_time": "2022-08-09T06:54:55.665Z"
    }
   },
   "outputs": [],
   "source": [
    "pap_df"
   ]
  },
  {
   "cell_type": "code",
   "execution_count": null,
   "metadata": {
    "ExecuteTime": {
     "start_time": "2022-08-09T06:54:55.667Z"
    }
   },
   "outputs": [],
   "source": [
    "pap_df.to_csv( \"/dd_userdata/usrdat03/userdata/cherring/data/cellranger_outputs/brain_maturation_RNA/output_data/Hotspot_gene_modules.csv\")"
   ]
  },
  {
   "cell_type": "markdown",
   "metadata": {},
   "source": [
    "### Check modules for negative correlation"
   ]
  },
  {
   "cell_type": "code",
   "execution_count": null,
   "metadata": {
    "ExecuteTime": {
     "start_time": "2022-08-09T06:54:55.670Z"
    }
   },
   "outputs": [],
   "source": [
    "# to test for negative regulation need to comapare means for cluster1 (largest and oligo cluster) with mean from all cells not in oligo cluster, if more than oligo mean then I may have problems\n",
    "# this test did not result in any genes in module 1 having higher mean expression outside of oligos than within oligos\n",
    "# also checked module 2 with Micro and non are higher in than out\n",
    "# so HOTSPOT only picks up positive correlations"
   ]
  },
  {
   "cell_type": "code",
   "execution_count": null,
   "metadata": {
    "ExecuteTime": {
     "start_time": "2022-08-09T06:54:55.672Z"
    }
   },
   "outputs": [],
   "source": [
    "# get all modules in a dataframe\n",
    "all_mods = hs.results.join(hs.modules)\n",
    "all_mods.dropna( inplace=True)\n",
    "# drop non assigned genes\n",
    "all_mods = all_mods[all_mods['Module']!=-1.0]\n",
    "all_mods.shape"
   ]
  },
  {
   "cell_type": "code",
   "execution_count": null,
   "metadata": {
    "ExecuteTime": {
     "start_time": "2022-08-09T06:54:55.674Z"
    }
   },
   "outputs": [],
   "source": [
    "mod1_genes = all_mods[all_mods['Module']==3.0].index.values\n",
    "olig_mk = adata.obs['major_clust']=='Astro'\n",
    "for g_itr in mod1_genes:\n",
    "    g_mk = adata.var_names==g_itr\n",
    "    olig_mean = adata[olig_mk,g_mk].X.mean()\n",
    "    other_mean = adata[~olig_mk,g_mk].X.mean()\n",
    "    if( olig_mean<other_mean):\n",
    "        print( g_itr)\n",
    "#     print( sum( g_mk))"
   ]
  },
  {
   "cell_type": "code",
   "execution_count": null,
   "metadata": {
    "ExecuteTime": {
     "start_time": "2022-08-09T06:54:55.676Z"
    }
   },
   "outputs": [],
   "source": [
    "olig_mean, other_mean"
   ]
  },
  {
   "cell_type": "code",
   "execution_count": null,
   "metadata": {
    "ExecuteTime": {
     "start_time": "2022-08-09T06:54:55.678Z"
    }
   },
   "outputs": [],
   "source": [
    "sc.pl.umap( adata, color=['ADAM9','RRAD','MTRNR2L10','POMC'], size=6)"
   ]
  },
  {
   "cell_type": "markdown",
   "metadata": {},
   "source": [
    "###  build matrix for heatmap - comparing major clusts across stages with modules"
   ]
  },
  {
   "cell_type": "code",
   "execution_count": null,
   "metadata": {
    "ExecuteTime": {
     "start_time": "2022-08-09T06:54:55.680Z"
    }
   },
   "outputs": [],
   "source": [
    "np.unique( adata.obs['major_clust'].values)"
   ]
  },
  {
   "cell_type": "code",
   "execution_count": null,
   "metadata": {
    "ExecuteTime": {
     "start_time": "2022-08-09T06:54:55.682Z"
    }
   },
   "outputs": [],
   "source": [
    "# reformat cluster names to fit preferred format of major clusters\n",
    "sst_mk = adata.obs['major_clust']=='SST'\n",
    "pv_mk  = adata.obs['major_clust']=='PV'\n",
    "vip_mk = adata.obs['major_clust']=='VIP'\n",
    "id2_mk = adata.obs['major_clust']=='ID2'\n",
    "ca1_mk = adata.obs['sub_clust']=='LAMP5_CA1'\n",
    "scb_mk = np.in1d( adata.obs['sub_clust'], ['PV_SCUBE3','PV_SCUBE3_dev'])\n",
    "\n",
    "adata.obs['major_clust'] = adata.obs['major_clust'].astype(str)\n",
    "adata.obs['major_clust'][sst_mk] = 'SST'\n",
    "adata.obs['major_clust'][pv_mk ] = 'PV'\n",
    "adata.obs['major_clust'][vip_mk] = 'VIP'\n",
    "adata.obs['major_clust'][id2_mk] = 'ID2'\n",
    "adata.obs['major_clust'][ca1_mk] = 'LAMP5_CA1'\n",
    "adata.obs['major_clust'][scb_mk] = 'PV_SCUBE3'\n",
    "\n",
    "np.unique( adata.obs['major_clust'].values)"
   ]
  },
  {
   "cell_type": "code",
   "execution_count": null,
   "metadata": {
    "ExecuteTime": {
     "start_time": "2022-08-09T06:54:55.684Z"
    }
   },
   "outputs": [],
   "source": [
    "# get all modules in a dataframe\n",
    "all_mods = hs.results.join(hs.modules)\n",
    "all_mods.dropna( inplace=True)\n",
    "# drop non assigned genes set to -1.0\n",
    "all_mods = all_mods[all_mods['Module']!=-1.0]\n",
    "all_mods.shape"
   ]
  },
  {
   "cell_type": "code",
   "execution_count": null,
   "metadata": {
    "ExecuteTime": {
     "start_time": "2022-08-09T06:54:55.685Z"
    }
   },
   "outputs": [],
   "source": [
    "all_mods.to_csv('/dd_userdata/usrdat03/userdata/cherring/data/cellranger_outputs/brain_maturation_RNA/output_data/whole-tissue_all-cells_DEGs_hotspot-gene-modules.csv')"
   ]
  },
  {
   "cell_type": "code",
   "execution_count": null,
   "metadata": {
    "ExecuteTime": {
     "start_time": "2022-08-09T06:54:55.687Z"
    }
   },
   "outputs": [],
   "source": [
    "stage_order = ['Fetal', 'Neonatal', 'Infancy', 'Childhood', 'Adolescence', 'Adult']\n",
    "gene_names = adata.var_names.values"
   ]
  },
  {
   "cell_type": "code",
   "execution_count": null,
   "metadata": {
    "ExecuteTime": {
     "start_time": "2022-08-09T06:54:55.688Z"
    }
   },
   "outputs": [],
   "source": [
    "# order clusters to paper styling\n",
    "major_clusts = ['L2/3_CUX2', 'L4_RORB', 'L5/6_THEMIS', 'L5/6_TLE4', 'PN_dev',\n",
    "                'VIP', 'ID2', 'LAMP5_CA1', 'CGE_dev',  \n",
    "                'SST', 'PV', 'PV_SCUBE3', 'MGE_dev',  \n",
    "                'Astro', 'Oligo', 'OPC',\n",
    "                'Micro', 'Vas']"
   ]
  },
  {
   "cell_type": "code",
   "execution_count": null,
   "metadata": {
    "ExecuteTime": {
     "start_time": "2022-08-09T06:54:55.690Z"
    },
    "scrolled": true
   },
   "outputs": [],
   "source": [
    "# dataframe to hold cluster stage module expression\n",
    "csme = pd.DataFrame([])\n",
    "# loop through majors\n",
    "for clust_itr in major_clusts:\n",
    "    if( clust_itr=='Poor-Quality'):\n",
    "        continue\n",
    "    print( clust_itr)\n",
    "    # take slice from adata data set\n",
    "    adata_itr1 = adata[adata.obs['major_clust']==clust_itr]\n",
    "    # loop through stages\n",
    "    for stage_itr in stage_order:\n",
    "        stage_mk = adata_itr1.obs['stage_ids']==stage_itr\n",
    "        # only want to look at stages with over 10 cells in a cluster\n",
    "        if( sum( stage_mk)<10):\n",
    "            continue\n",
    "        adata_itr2 = adata_itr1[stage_mk]\n",
    "        ind_nm = f\"{stage_itr}_{clust_itr}\"\n",
    "#         print( f\"{ind_nm} shape is {adata_itr2.shape}\")\n",
    "        # loop through modules\n",
    "        for mod_itr in all_mods['Module'].unique():\n",
    "            if( int(mod_itr)==-1):\n",
    "                continue\n",
    "            mod_gene_mk = all_mods['Module']==mod_itr\n",
    "            mod_genes = all_mods.index.values[mod_gene_mk]\n",
    "            adata_gene_mk = np.array( dta.member_test( gene_names, mod_genes))\n",
    "            gene_csr = adata_itr2[:,adata_gene_mk].X\n",
    "            if( gene_csr.sum(0).sum()==0.0):\n",
    "                print( f\"nothing in {ind_nm}\")\n",
    "                csme.loc[ind_nm,f\"Module-{str(int(mod_itr))}\"] = 0.0\n",
    "            else:\n",
    "                gene_mean = gene_csr.mean(0)\n",
    "                csme.loc[ind_nm,f\"Module-{str(int(mod_itr))}\"] = np.mean( gene_mean)"
   ]
  },
  {
   "cell_type": "code",
   "execution_count": null,
   "metadata": {
    "ExecuteTime": {
     "start_time": "2022-08-09T06:54:55.691Z"
    }
   },
   "outputs": [],
   "source": [
    "cmap = sns.color_palette( \"ch:start=.2,rot=-.3\", n_colors=1000)\n",
    "sns.set(rc={'axes.facecolor':'white', 'figure.facecolor':'white'})\n",
    "#                                                                                                                                                     left_rigth,up/down,\n",
    "g = sns.clustermap( csme.T, col_cluster=False, standard_scale=0, figsize=(40,8), cmap=cmap, yticklabels=csme.columns.values, linewidths=0.025, cbar_pos=(0.25, 0.925, 0.325, 0.05), \n",
    "                    cbar_kws={\"orientation\": \"horizontal\"})\n",
    "g.ax_row_dendrogram.set_visible(False)\n",
    "g.cax.set_visible(True)\n",
    "plt.setp( g.ax_heatmap.yaxis.get_majorticklabels(), rotation=0);\n",
    "plt.savefig( \"/dd_userdata/usrdat03/userdata/cherring/data/cellranger_outputs/brain_maturation_RNA/hotspot_dev-majclust-vs-modules.svg\", format='svg')"
   ]
  },
  {
   "cell_type": "markdown",
   "metadata": {},
   "source": [
    "## Get GO terms for each module"
   ]
  },
  {
   "cell_type": "code",
   "execution_count": null,
   "metadata": {
    "ExecuteTime": {
     "start_time": "2022-08-09T06:54:55.694Z"
    }
   },
   "outputs": [],
   "source": [
    "# things to do to clean up module dev plot\n",
    "# 1 read in non-downsampled data and use it for average expression\n",
    "# 2 correct scanpy naming convention\n",
    "# 3 change query back to symbol not ensg\n",
    "# 4 set query background to genes expressed in whole tissue"
   ]
  },
  {
   "cell_type": "markdown",
   "metadata": {},
   "source": [
    "#### Change gene symbols back from scanpy unique"
   ]
  },
  {
   "cell_type": "code",
   "execution_count": null,
   "metadata": {
    "ExecuteTime": {
     "start_time": "2022-08-09T06:54:55.696Z"
    }
   },
   "outputs": [],
   "source": [
    "# check how many gene names are changed by scanpy var_names_make_unique()\n",
    "gene_file = \"/dd_userdata/usrdat03/userdata/cherring/data/cellranger_outputs/brain_maturation_RNA/RL1777_2d_v3/outs/filtered_feature_bc_matrix.h5\"\n",
    "test_adata = sc.read_10x_h5( gene_file)\n",
    "raw_names = test_adata.var_names.values\n",
    "raw_names"
   ]
  },
  {
   "cell_type": "code",
   "execution_count": null,
   "metadata": {
    "ExecuteTime": {
     "start_time": "2022-08-09T06:54:55.698Z"
    }
   },
   "outputs": [],
   "source": [
    "test_adata.var_names_make_unique()\n",
    "unq_names = test_adata.var_names.values.tolist()\n",
    "current_names = all_mods.index.values.tolist()"
   ]
  },
  {
   "cell_type": "code",
   "execution_count": null,
   "metadata": {
    "ExecuteTime": {
     "start_time": "2022-08-09T06:54:55.699Z"
    }
   },
   "outputs": [],
   "source": [
    "def get_preunique_names( current_names, raw_names=raw_names, unq_names=unq_names):\n",
    "    raw_current_names = np.zeros_like( current_names)\n",
    "    for itr, gene_itr in enumerate( current_names):\n",
    "        if gene_itr not in raw_names:\n",
    "            raw_current_names[itr] = raw_names[unq_names.index(gene_itr)]\n",
    "        else:\n",
    "            raw_current_names[itr] = gene_itr\n",
    "    print( f\"{len( current_names) - sum( dta.member_test( raw_current_names, current_names))} name changes\")\n",
    "    return( raw_current_names)"
   ]
  },
  {
   "cell_type": "code",
   "execution_count": null,
   "metadata": {
    "ExecuteTime": {
     "start_time": "2022-08-09T06:54:55.701Z"
    }
   },
   "outputs": [],
   "source": [
    "all_mods.index = get_preunique_names( current_names)"
   ]
  },
  {
   "cell_type": "code",
   "execution_count": null,
   "metadata": {
    "ExecuteTime": {
     "start_time": "2022-08-09T06:54:55.702Z"
    }
   },
   "outputs": [],
   "source": [
    "adata.var_names = get_preunique_names( adata.var_names)\n",
    "gene_names = adata.var_names"
   ]
  },
  {
   "cell_type": "markdown",
   "metadata": {},
   "source": [
    "#### Get list of background genes to submit to GO query"
   ]
  },
  {
   "cell_type": "code",
   "execution_count": null,
   "metadata": {
    "ExecuteTime": {
     "start_time": "2022-08-09T06:54:55.704Z"
    }
   },
   "outputs": [],
   "source": [
    "gene_sums = (adata.X.sum(0)).A1\n",
    "gene_mk1 = gene_sums>0\n",
    "print( sum(gene_mk1))\n",
    "background = gene_names[gene_mk1].values"
   ]
  },
  {
   "cell_type": "code",
   "execution_count": null,
   "metadata": {
    "ExecuteTime": {
     "start_time": "2022-08-09T06:54:55.706Z"
    }
   },
   "outputs": [],
   "source": [
    "from gprofiler import GProfiler\n",
    "def query_genes( genes, bk_grd=background.tolist(), p_thresh=0.05):\n",
    "    gp = GProfiler( return_dataframe=True)\n",
    "    query_df = gp.profile( organism='hsapiens', query=genes, user_threshold=p_thresh, background=bk_grd)\n",
    "    ####################################################\n",
    "    # only want moleuclar function and bio processes returned\n",
    "    query_df = query_df[np.in1d( query_df['source'].values, ['GO:MF','GO:BP'])]\n",
    "    ####################################################\n",
    "    # only want less general GOs\n",
    "#     parent_mk = np.array( [len( ii)>=parent_th for ii in query_df['parents'].values])\n",
    "    return( query_df) #.loc[parent_mk])"
   ]
  },
  {
   "cell_type": "code",
   "execution_count": null,
   "metadata": {
    "ExecuteTime": {
     "start_time": "2022-08-09T06:54:55.708Z"
    },
    "scrolled": true,
    "tags": []
   },
   "outputs": [],
   "source": [
    "gos = {}\n",
    "tfs = {}\n",
    "pvs = {}\n",
    "inter = {}\n",
    "parents = {}\n",
    "mods = np.unique( all_mods['Module'])\n",
    "for mod_itr in mods:\n",
    "    itr_mk = all_mods['Module']==mod_itr\n",
    "    range_genes = all_mods.index.values[itr_mk]\n",
    "    if( range_genes.size==0):\n",
    "            gos[f\"{ref_itr}_{c_itr}\"] = []\n",
    "            pvs[f\"{ref_itr}_{c_itr}\"] = []\n",
    "            inter[f\"{ref_itr}_{c_itr}\"]  = []\n",
    "    else:\n",
    "        q_df = query_genes( range_genes.tolist(), p_thresh=0.999)\n",
    "        gos[f\"Module-{str(int(mod_itr))}\"] = q_df[\"name\"].values\n",
    "        pvs[f\"Module-{str(int(mod_itr))}\"] = q_df[\"p_value\"].values\n",
    "        inter[f\"Module-{str(int(mod_itr))}\"] = q_df[\"intersection_size\"].values\n",
    "        parents[f\"Module-{str(int(mod_itr))}\"] = [len(ii) for ii in q_df['parents']]\n",
    "gos"
   ]
  },
  {
   "cell_type": "code",
   "execution_count": null,
   "metadata": {
    "ExecuteTime": {
     "start_time": "2022-08-09T06:54:55.709Z"
    }
   },
   "outputs": [],
   "source": [
    "# sort by parent level of go term\n",
    "def get_lvl_gos( lvl_th, go_terms=gos, p_values=pvs, intersect=inter, parents=parents):\n",
    "    lvl_gos = {}\n",
    "    lvl_pvs = {}\n",
    "    lvl_int = {}\n",
    "    for key_itr in go_terms.keys():\n",
    "        lvl_gos[key_itr] = [go for go, par in zip( go_terms[key_itr],  parents[key_itr]) if par==lvl_th]\n",
    "        lvl_pvs[key_itr] = [pv for pv, par in zip( p_values[key_itr],  parents[key_itr]) if par==lvl_th]\n",
    "        lvl_int[key_itr] = [te for te, par in zip( intersect[key_itr], parents[key_itr]) if par==lvl_th]\n",
    "    return( lvl_gos, lvl_pvs, lvl_int)"
   ]
  },
  {
   "cell_type": "code",
   "execution_count": null,
   "metadata": {
    "ExecuteTime": {
     "start_time": "2022-08-09T06:54:55.711Z"
    }
   },
   "outputs": [],
   "source": [
    "lvl1_gos, lvl1_pvs, lvl1_int = get_lvl_gos( 1)\n",
    "lvl2_gos, lvl2_pvs, lvl2_int = get_lvl_gos( 2)\n",
    "lvl3_gos, lvl3_pvs, lvl3_int = get_lvl_gos( 3)\n",
    "lvl4_gos, lvl4_pvs, lvl4_int = get_lvl_gos( 4)"
   ]
  },
  {
   "cell_type": "code",
   "execution_count": null,
   "metadata": {
    "ExecuteTime": {
     "start_time": "2022-08-09T06:54:55.712Z"
    }
   },
   "outputs": [],
   "source": [
    "# assumes go_dict is already sorted by p-value\n",
    "def get_n_top_gos( go_dict, pv_dict, in_dict, N):\n",
    "    top_g_dict = {}\n",
    "    top_p_dict = {}\n",
    "    top_i_dict = {}\n",
    "    for k_itr in go_dict.keys():\n",
    "        go_itr = go_dict[k_itr]\n",
    "        pv_itr = pv_dict[k_itr]\n",
    "        in_itr = in_dict[k_itr]\n",
    "        top_g_dict[k_itr] = go_itr[:N]\n",
    "        top_p_dict[k_itr] = pv_itr[:N]\n",
    "        top_i_dict[k_itr] = in_itr[:N]\n",
    "    return( top_g_dict, top_p_dict, top_i_dict)"
   ]
  },
  {
   "cell_type": "code",
   "execution_count": null,
   "metadata": {
    "ExecuteTime": {
     "start_time": "2022-08-09T06:54:55.714Z"
    }
   },
   "outputs": [],
   "source": [
    "###################################################################\n",
    "######### here is where you control level of GO terms\n",
    "###################################################################\n",
    "top_gos_dict, top_pvs_dict, top_int_dict = get_n_top_gos( lvl2_gos,lvl2_pvs, lvl2_int, 5)"
   ]
  },
  {
   "cell_type": "code",
   "execution_count": null,
   "metadata": {
    "ExecuteTime": {
     "start_time": "2022-08-09T06:54:55.716Z"
    }
   },
   "outputs": [],
   "source": [
    "# create dataframe to hold p-values for mods and go terms\n",
    "col_names = []\n",
    "for vals in top_gos_dict.values():\n",
    "    col_names = np.append( col_names, vals)\n",
    "print( col_names.shape)\n",
    "col_names = np.unique( col_names)\n",
    "print( col_names.shape)"
   ]
  },
  {
   "cell_type": "code",
   "execution_count": null,
   "metadata": {
    "ExecuteTime": {
     "start_time": "2022-08-09T06:54:55.717Z"
    }
   },
   "outputs": [],
   "source": [
    "gm_df = pd.DataFrame( [], index=list( top_gos_dict.keys()), columns=col_names, dtype=float)\n",
    "in_df = pd.DataFrame( [], index=list( top_gos_dict.keys()), columns=col_names, dtype=int)\n",
    "gm_df.iloc[:,:] = np.log10( 1.0)\n",
    "in_df.iloc[:,:] = 0"
   ]
  },
  {
   "cell_type": "code",
   "execution_count": null,
   "metadata": {
    "ExecuteTime": {
     "start_time": "2022-08-09T06:54:55.718Z"
    }
   },
   "outputs": [],
   "source": [
    "-np.log10(1.0), -np.log10( 0.05), -np.log10( 0.0000005)"
   ]
  },
  {
   "cell_type": "code",
   "execution_count": null,
   "metadata": {
    "ExecuteTime": {
     "start_time": "2022-08-09T06:54:55.720Z"
    }
   },
   "outputs": [],
   "source": [
    "for mod_itr in gos.keys():\n",
    "    pvs_itr = top_pvs_dict[mod_itr]\n",
    "    gos_itr = top_gos_dict[mod_itr]\n",
    "    for p_itr, go_itr in zip( pvs_itr, gos_itr):\n",
    "        gm_df.loc[mod_itr,go_itr] = -np.log10( p_itr)    \n",
    "        \n",
    "for mod_itr in gos.keys():\n",
    "    in_itr  = top_int_dict[mod_itr]\n",
    "    gos_itr = top_gos_dict[mod_itr]\n",
    "    for i_itr, go_itr in zip( in_itr, gos_itr):\n",
    "        in_df.loc[mod_itr,go_itr] = i_itr"
   ]
  },
  {
   "cell_type": "code",
   "execution_count": null,
   "metadata": {
    "ExecuteTime": {
     "start_time": "2022-08-09T06:54:55.721Z"
    }
   },
   "outputs": [],
   "source": [
    "gm_df.index.values"
   ]
  },
  {
   "cell_type": "code",
   "execution_count": null,
   "metadata": {
    "ExecuteTime": {
     "start_time": "2022-08-09T06:54:55.722Z"
    }
   },
   "outputs": [],
   "source": [
    "#######################\n",
    "ttt = 0.05\n",
    "th = -np.log10(ttt)\n",
    "# gm_df[gm_df>=th] = th\n",
    "#######################"
   ]
  },
  {
   "cell_type": "code",
   "execution_count": null,
   "metadata": {
    "ExecuteTime": {
     "start_time": "2022-08-09T06:54:55.724Z"
    }
   },
   "outputs": [],
   "source": [
    "sns.set(font_scale=0.70)\n",
    "g = sns.clustermap( gm_df.T, col_cluster=True, figsize=(8,20), cmap=cmap, cbar_pos=(0.15, 0.825, 0.525, 0.012), \n",
    "                    cbar_kws={\"orientation\": \"horizontal\"}, linewidths=0.025)#, \"ticks\":-np.log10([1,0.05,0.005])})#, \"ticklabels\":[\"1.0\", \"0.05\", \"0.005\"]})\n",
    "g.ax_col_dendrogram.set_visible(False)\n",
    "g.ax_row_dendrogram.set_visible(False)\n",
    "plt.setp( g.ax_heatmap.xaxis.get_majorticklabels(), rotation=90);\n",
    "plt.setp( g.ax_heatmap.yaxis.get_majorticklabels(), rotation=0);\n",
    "g.cax.set_visible( False)"
   ]
  },
  {
   "cell_type": "code",
   "execution_count": null,
   "metadata": {
    "ExecuteTime": {
     "start_time": "2022-08-09T06:54:55.725Z"
    }
   },
   "outputs": [],
   "source": [
    "sns.set(font_scale=0.70)\n",
    "g = sns.clustermap( gm_df, col_cluster=True, figsize=(20,8), cmap=cmap, cbar_pos=(0.15, 0.825, 0.525, 0.012), \n",
    "                    cbar_kws={\"orientation\": \"horizontal\"}, linewidths=0.025)#, \"ticks\":-np.log10([1,0.05,0.005])})#, \"ticklabels\":[\"1.0\", \"0.05\", \"0.005\"]})\n",
    "g.ax_col_dendrogram.set_visible(False)\n",
    "g.ax_row_dendrogram.set_visible(False)\n",
    "plt.setp( g.ax_heatmap.xaxis.get_majorticklabels(), rotation=90);\n",
    "plt.setp( g.ax_heatmap.yaxis.get_majorticklabels(), rotation=0);\n",
    "g.cax.set_visible( False)\n",
    "# plt.savefig( \"/dd_userdata/usrdat03/userdata/cherring/data/cellranger_outputs/brain_maturation_RNA/hotspot_GOs-vs-modules.svg\", format='svg')"
   ]
  },
  {
   "cell_type": "code",
   "execution_count": null,
   "metadata": {},
   "outputs": [],
   "source": []
  },
  {
   "cell_type": "code",
   "execution_count": null,
   "metadata": {
    "ExecuteTime": {
     "start_time": "2022-08-09T06:54:55.728Z"
    }
   },
   "outputs": [],
   "source": [
    "gm_df.to_csv( \"/dd_userdata/usrdat03/userdata/cherring/data/cellranger_outputs/brain_maturation_RNA/hotspot_GOs-vs-modules_dataframe.csv\")\n",
    "in_df.to_csv( \"/dd_userdata/usrdat03/userdata/cherring/data/cellranger_outputs/brain_maturation_RNA/hotspot_GOs-vs-modules_dataframe_intersect.csv\")"
   ]
  },
  {
   "cell_type": "code",
   "execution_count": null,
   "metadata": {},
   "outputs": [],
   "source": []
  },
  {
   "cell_type": "code",
   "execution_count": null,
   "metadata": {},
   "outputs": [],
   "source": []
  },
  {
   "cell_type": "markdown",
   "metadata": {},
   "source": [
    "## Extras"
   ]
  },
  {
   "cell_type": "code",
   "execution_count": null,
   "metadata": {
    "ExecuteTime": {
     "start_time": "2022-08-09T06:54:55.732Z"
    }
   },
   "outputs": [],
   "source": [
    " # subplot params\n",
    "n    = max( hs.modules.unique())\n",
    "cols = round( math.sqrt( n))\n",
    "rows = math.ceil( n / cols)\n",
    "size = cols * rows\n",
    "\n",
    "fig, axs = plt.subplots( rows, cols, figsize=(rows*5,cols*5))\n",
    "cax = fig.add_axes(\n",
    "    [.95, .15, .007, .1]\n",
    ")\n",
    "for itr, (ax, mod) in enumerate( zip( axs.ravel(), hs.module_scores.columns)):\n",
    "    ax.set_facecolor( 'white')\n",
    "    scp = hs.module_scores[mod]\n",
    "    vmin = -10\n",
    "    vmax = 10\n",
    "    plt.sca(ax)\n",
    "    scp = plt.scatter(\n",
    "        umap[:,0], umap[:,1],\n",
    "        s=1, c=scp, vmin=vmin, vmax=vmax,\n",
    "        rasterized=True, cmap='Blues')\n",
    "    plt.xticks([])\n",
    "    plt.yticks([])\n",
    "    plt.title(\"Module {}\".format(mod))\n",
    "# clear rest of graphs\n",
    "for ii in range( itr+1, size):\n",
    "    ax = axs.flatten()[ii]\n",
    "    ax.axis('off')\n",
    "        \n",
    "plt.subplots_adjust(hspace=0.2)\n",
    "plt.colorbar(scp, cax=cax, label='Module\\nScore')\n",
    "plt.subplots_adjust(left=0.02, right=0.9)"
   ]
  },
  {
   "cell_type": "code",
   "execution_count": null,
   "metadata": {},
   "outputs": [],
   "source": []
  },
  {
   "cell_type": "code",
   "execution_count": null,
   "metadata": {},
   "outputs": [],
   "source": []
  },
  {
   "cell_type": "code",
   "execution_count": null,
   "metadata": {},
   "outputs": [],
   "source": []
  },
  {
   "cell_type": "code",
   "execution_count": null,
   "metadata": {},
   "outputs": [],
   "source": []
  },
  {
   "cell_type": "code",
   "execution_count": null,
   "metadata": {
    "ExecuteTime": {
     "start_time": "2022-08-09T06:54:55.738Z"
    }
   },
   "outputs": [],
   "source": [
    "first_go = np.array( [f\"{mods[itr]}--{ii[:10]}\" for itr, ii in enumerate( gos)])\n",
    "# first_go"
   ]
  },
  {
   "cell_type": "code",
   "execution_count": null,
   "metadata": {
    "ExecuteTime": {
     "start_time": "2022-08-09T06:54:55.739Z"
    }
   },
   "outputs": [],
   "source": [
    "from scipy.spatial import distance\n",
    "from scipy.cluster import hierarchy\n",
    "\n",
    "def get_row_order( fits):\n",
    "    row_linkage = hierarchy.linkage(\n",
    "        distance.pdist( fits, metric='euclidean'), method='average')\n",
    "    leaf_order = hierarchy.leaves_list( row_linkage)\n",
    "    return( leaf_order)"
   ]
  },
  {
   "cell_type": "code",
   "execution_count": null,
   "metadata": {
    "ExecuteTime": {
     "start_time": "2022-08-09T06:54:55.741Z"
    }
   },
   "outputs": [],
   "source": [
    "import textwrap\n",
    "cmap = sns.color_palette( \"ch:start=.2,rot=-.3\", n_colors=1000)\n",
    "sns.set(font_scale=0.75)\n",
    "ro = get_row_order( csme.T.values)\n",
    "row_order = csme.T.index.values[ro]\n",
    "ylabs = [first_go[int(ii)-1] for ii in row_order]\n",
    "g = sns.clustermap( csme.T.loc[row_order,:], col_cluster=False, standard_scale=0, figsize=(15,25), cmap=cmap, square=False, yticklabels=[textwrap.fill(e, 50) for e in ylabs])"
   ]
  },
  {
   "cell_type": "code",
   "execution_count": null,
   "metadata": {
    "ExecuteTime": {
     "start_time": "2022-08-09T06:54:55.742Z"
    },
    "scrolled": true
   },
   "outputs": [],
   "source": [
    "sc.settings.set_figure_params( dpi=80, fontsize=6, color_map='cool')\n",
    "for itr in np.random.randint( 0, hs.neighbors.shape[0], size=10):\n",
    "    t_mk = np.array( [ii in hs.neighbors.iloc[itr,:].values for ii in range(adata.shape[0])])\n",
    "    adata.obs['test'] = t_mk\n",
    "    sc.pl.embedding( adata, basis='umap', color=['test'], legend_fontsize=4, add_outline=False, size=15, legend_fontoutline=0.2, sort_order=True)"
   ]
  },
  {
   "cell_type": "code",
   "execution_count": null,
   "metadata": {},
   "outputs": [],
   "source": []
  }
 ],
 "metadata": {
  "kernelspec": {
   "display_name": "Python 3 (ipykernel)",
   "language": "python",
   "name": "python3"
  },
  "language_info": {
   "codemirror_mode": {
    "name": "ipython",
    "version": 3
   },
   "file_extension": ".py",
   "mimetype": "text/x-python",
   "name": "python",
   "nbconvert_exporter": "python",
   "pygments_lexer": "ipython3",
   "version": "3.9.21"
  }
 },
 "nbformat": 4,
 "nbformat_minor": 4
}
