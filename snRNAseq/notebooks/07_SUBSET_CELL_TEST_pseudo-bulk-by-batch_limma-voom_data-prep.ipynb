{
 "cells": [
  {
   "cell_type": "markdown",
   "metadata": {},
   "source": [
    "## **To recreate study results please load package versions found in main_requirements.txt**"
   ]
  },
  {
   "cell_type": "code",
   "execution_count": 1,
   "metadata": {
    "ExecuteTime": {
     "end_time": "2022-08-10T02:46:29.589513Z",
     "start_time": "2022-08-10T02:46:23.904280Z"
    }
   },
   "outputs": [
    {
     "name": "stdout",
     "output_type": "stream",
     "text": [
      "scanpy==1.10.3 anndata==0.10.9 umap==0.5.7 numpy==1.26.4 scipy==1.13.1 pandas==2.2.3 scikit-learn==1.6.1 statsmodels==0.14.4 igraph==0.8.3 pynndescent==0.5.13\n"
     ]
    }
   ],
   "source": [
    "import scanpy as sc\n",
    "import numpy as np\n",
    "import pandas as pd\n",
    "import matplotlib.pyplot as plt\n",
    "%matplotlib inline\n",
    "import matplotlib\n",
    "import math\n",
    "import seaborn as sns\n",
    "import os\n",
    "# %config IPCompleter.greedy=True\n",
    "%load_ext autoreload\n",
    "%autoreload 2\n",
    "\n",
    "sc.settings.verbosity = 0\n",
    "sc.logging.print_header()\n",
    "sns.set_context(\"paper\")"
   ]
  },
  {
   "cell_type": "code",
   "execution_count": 2,
   "metadata": {
    "ExecuteTime": {
     "end_time": "2022-08-10T02:46:29.620191Z",
     "start_time": "2022-08-10T02:46:29.592550Z"
    }
   },
   "outputs": [],
   "source": [
    "# import local module containing misc code, helps keep notebooks clean from commonly used functions\n",
    "import new_misc_code as nmc"
   ]
  },
  {
   "cell_type": "markdown",
   "metadata": {},
   "source": [
    "## **Load raw UMI count data**"
   ]
  },
  {
   "cell_type": "code",
   "execution_count": 3,
   "metadata": {
    "ExecuteTime": {
     "end_time": "2022-08-10T02:46:33.214640Z",
     "start_time": "2022-08-10T02:46:29.625853Z"
    }
   },
   "outputs": [],
   "source": [
    "# read in count matrices post nuclei and gene quality control\n",
    "adata = sc.read( \"../data/Processed_data_RNA-all_full-counts-and-downsampled-CPM.h5ad\")"
   ]
  },
  {
   "cell_type": "code",
   "execution_count": 4,
   "metadata": {
    "ExecuteTime": {
     "end_time": "2022-08-10T02:46:40.931168Z",
     "start_time": "2022-08-10T02:46:33.216542Z"
    }
   },
   "outputs": [],
   "source": [
    "# read in adata post clustering and dev-traj assignment\n",
    "adata2 = sc.read_h5ad( \"../data/Processed_data_RNA-gaba_full-counts-and-downsampled-CPM.h5ad\")"
   ]
  },
  {
   "cell_type": "code",
   "execution_count": 5,
   "metadata": {
    "ExecuteTime": {
     "end_time": "2022-08-10T02:46:40.967122Z",
     "start_time": "2022-08-10T02:46:40.933154Z"
    }
   },
   "outputs": [
    {
     "data": {
      "text/plain": [
       "array(['AAACCTGAGAGTCGGT-RL1612_34d_v2', 'AAACCTGAGCCGCCTA-RL1612_34d_v2',\n",
       "       'AAACCTGAGTCGAGTG-RL1612_34d_v2', ...,\n",
       "       'TTTGTTGGTAAGGTCG-RL2132_25yr_v3',\n",
       "       'TTTGTTGGTTCGGCTG-RL2132_25yr_v3',\n",
       "       'TTTGTTGTCGTCCTCA-RL2132_25yr_v3'], dtype=object)"
      ]
     },
     "execution_count": 5,
     "metadata": {},
     "output_type": "execute_result"
    }
   ],
   "source": [
    "adata.obs_names.values"
   ]
  },
  {
   "cell_type": "code",
   "execution_count": null,
   "metadata": {
    "ExecuteTime": {
     "end_time": "2022-08-10T02:47:16.783923Z",
     "start_time": "2022-08-10T02:46:40.969126Z"
    }
   },
   "outputs": [],
   "source": [
    "# add obs and obsm data to matching raw count nuclei\n",
    "adata = adata[nmc.member_test( adata.obs_names.values, adata2.obs_names.values)]\n",
    "adata.obs = adata2.obs\n",
    "adata.obsm = adata2.obsm\n",
    "adata.uns = adata2.uns\n",
    "sc.pp.calculate_qc_metrics( adata, inplace=True)"
   ]
  },
  {
   "cell_type": "code",
   "execution_count": null,
   "metadata": {
    "ExecuteTime": {
     "end_time": "2022-08-10T02:47:16.825195Z",
     "start_time": "2022-08-10T02:47:16.786340Z"
    }
   },
   "outputs": [],
   "source": [
    "# check if order of BCs match, should sum to 0\n",
    "(adata.obs_names.values!=adata2.obs_names.values).sum()"
   ]
  },
  {
   "cell_type": "code",
   "execution_count": null,
   "metadata": {
    "ExecuteTime": {
     "end_time": "2022-08-10T02:47:20.013213Z",
     "start_time": "2022-08-10T02:47:16.827555Z"
    }
   },
   "outputs": [],
   "source": [
    "sc.pl.umap( adata, color=['batch'], legend_fontsize=5, add_outline=True, size=2, legend_fontoutline=0.5)"
   ]
  },
  {
   "cell_type": "markdown",
   "metadata": {},
   "source": [
    "## **Clean up features a bit**"
   ]
  },
  {
   "cell_type": "code",
   "execution_count": null,
   "metadata": {
    "ExecuteTime": {
     "end_time": "2022-08-10T02:47:20.045668Z",
     "start_time": "2022-08-10T02:47:20.016983Z"
    }
   },
   "outputs": [],
   "source": [
    "# change unknown NaNs in year collected to common date\n",
    "adata.obs['Collection_year'].fillna( 9999, inplace=True)"
   ]
  },
  {
   "cell_type": "code",
   "execution_count": null,
   "metadata": {
    "ExecuteTime": {
     "end_time": "2022-08-10T02:47:20.074706Z",
     "start_time": "2022-08-10T02:47:20.047749Z"
    }
   },
   "outputs": [],
   "source": [
    "# get list of batches\n",
    "batches = adata.uns['batch_order']"
   ]
  },
  {
   "cell_type": "markdown",
   "metadata": {},
   "source": [
    "## **Bulk by batch**"
   ]
  },
  {
   "cell_type": "code",
   "execution_count": null,
   "metadata": {
    "ExecuteTime": {
     "end_time": "2022-08-10T02:47:20.642248Z",
     "start_time": "2022-08-10T02:47:20.076629Z"
    }
   },
   "outputs": [],
   "source": [
    "!mkdir ../data/limma-voom/"
   ]
  },
  {
   "cell_type": "code",
   "execution_count": null,
   "metadata": {
    "ExecuteTime": {
     "end_time": "2022-08-10T02:47:27.756863Z",
     "start_time": "2022-08-10T02:47:20.645036Z"
    }
   },
   "outputs": [],
   "source": [
    "# set minimum number of nuclei needed to make a bulk data set\n",
    "min_cells = 10\n",
    "# create dataframe to hold bulked data\n",
    "batches = adata.uns['batch_order']\n",
    "columns = [ (\"--\").join((x,y)) for x,y in zip( adata.var['gene_ids'].values, adata.var_names.values)]#\n",
    "bulk = pd.DataFrame( index=batches, columns=columns)\n",
    "# only want obs that are same across the batch, i.e. what can be controlled for\n",
    "obs_col_mk = (adata.obs.nunique()<=len(batches)).values\n",
    "obs_cols = np.array( adata.obs_keys())[obs_col_mk]\n",
    "# drop all dev_traj observations\n",
    "obs_cols = [ii for ii in obs_cols if 'traj' not in ii]\n",
    "obs = pd.DataFrame(  index=batches, columns=obs_cols)\n",
    "obs['Num_Cells'] = 0\n",
    "# loop through batches\n",
    "for batch_itr in batches:\n",
    "    ind = batch_itr\n",
    "    batch_mk = adata.obs['batch'].values==batch_itr\n",
    "    num_cells = batch_mk.sum()\n",
    "    if( min_cells<10):\n",
    "        bulk.drop( ind, axis=0, inplace=True)\n",
    "        obs.drop(  ind, axis=0, inplace=True)\n",
    "        continue\n",
    "    else:\n",
    "        batch_adata = adata[batch_mk]\n",
    "        bulk.loc[ind] = batch_adata.X.sum(0).A1\n",
    "        obs.loc[ind,'Num_Cells'] = num_cells\n",
    "        obs.loc[ind,obs_cols] = batch_adata.obs.iloc[0,obs_col_mk]\n",
    "\n",
    "# save files\n",
    "bulk.T.to_csv( f\"../data/limma-voom/bulked-by-batch_pseudo-bulk-cts_min{min_cells}.csv\")\n",
    "obs.to_csv(  f\"../data/limma-voom/bulked-by-batch_obs-cts_min{min_cells}.csv\")"
   ]
  },
  {
   "cell_type": "code",
   "execution_count": null,
   "metadata": {
    "ExecuteTime": {
     "end_time": "2022-08-10T02:47:27.834833Z",
     "start_time": "2022-08-10T02:47:27.758788Z"
    }
   },
   "outputs": [],
   "source": [
    "# example output, un-transposed\n",
    "obs.head()"
   ]
  },
  {
   "cell_type": "code",
   "execution_count": null,
   "metadata": {
    "ExecuteTime": {
     "end_time": "2022-08-10T02:47:27.891136Z",
     "start_time": "2022-08-10T02:47:27.836695Z"
    }
   },
   "outputs": [],
   "source": [
    "# example output, un-transposed\n",
    "bulk.head()"
   ]
  },
  {
   "cell_type": "code",
   "execution_count": null,
   "metadata": {},
   "outputs": [],
   "source": []
  },
  {
   "cell_type": "code",
   "execution_count": null,
   "metadata": {},
   "outputs": [],
   "source": []
  },
  {
   "cell_type": "code",
   "execution_count": null,
   "metadata": {},
   "outputs": [],
   "source": []
  }
 ],
 "metadata": {
  "kernelspec": {
   "display_name": "Python 3 (ipykernel)",
   "language": "python",
   "name": "python3"
  },
  "language_info": {
   "codemirror_mode": {
    "name": "ipython",
    "version": 3
   },
   "file_extension": ".py",
   "mimetype": "text/x-python",
   "name": "python",
   "nbconvert_exporter": "python",
   "pygments_lexer": "ipython3",
   "version": "3.9.21"
  }
 },
 "nbformat": 4,
 "nbformat_minor": 4
}
